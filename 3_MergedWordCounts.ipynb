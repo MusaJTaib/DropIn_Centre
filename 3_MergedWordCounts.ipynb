{
 "cells": [
  {
   "attachments": {},
   "cell_type": "markdown",
   "metadata": {},
   "source": [
    "# Pre-processing Notebook 3 for 90 days clients data \n",
    "<br>\n",
    "<em> Word counts: From GettingStarted.ipynb (master branch) each of the 32 buckets has a number of associated words, the counts of these words were extarcted from the logs in order to maintain data anonymization and still provide useful insights from the logs: Addiction,Bar,Biometrics,Brawl etc. Daily Aggregated Sum of the individual word counts is computed for each day in this notebook.</em>"
   ]
  },
  {
   "cell_type": "code",
   "execution_count": null,
   "metadata": {},
   "outputs": [],
   "source": [
    "import pandas as pd\n",
    "import numpy as np\n",
    "import matplotlib.pyplot as plt\n",
    "import matplotlib.dates as mdates\n",
    "import scipy as sci\n",
    "import scipy.special as scisp\n",
    "import scipy.stats as scist\n",
    "import datetime, copy, imp, sys\n",
    "sys.path.append('../../lib')\n",
    "from tqdm.auto import tqdm, trange\n",
    "from tqdm.notebook import tqdm\n",
    "tqdm.pandas()\n",
    "plt.ion()"
   ]
  },
  {
   "cell_type": "code",
   "execution_count": null,
   "metadata": {},
   "outputs": [],
   "source": [
    "validClientsFirst90DaysDf2 = pd.read_hdf('validClientsFirst90DaysDf2.h5') # Read the filtered 90 days"
   ]
  },
  {
   "cell_type": "code",
   "execution_count": null,
   "metadata": {},
   "outputs": [],
   "source": [
    "validClientsFirst90DaysDf2.head()"
   ]
  },
  {
   "cell_type": "markdown",
   "metadata": {},
   "source": [
    "### Feature engineering of word counts\n",
    "- All functions which are Aggregates (sum) follow the naming convention DailyAggXYZ\n",
    "- The aggregations are split into seprate functions due to constraints of the RAM memory\n",
    "- The computed individual aggregates are intially stored in temporary variables and then are appended to a single dataframe (tempMergeNonCategorical) sequently"
   ]
  },
  {
   "cell_type": "code",
   "execution_count": null,
   "metadata": {},
   "outputs": [],
   "source": [
    "def DailyAggAddiction(tbl): # summing all the word Counts in this notebook \n",
    "    dayVal = tbl.Addiction.groupby(tbl.index.date).sum().reset_index()\n",
    "    return dayVal\n",
    "def DailyAggBar(tbl):\n",
    "    dayVal = tbl.Bar.groupby(tbl.index.date).sum().reset_index()\n",
    "    return dayVal\n",
    "def DailyAggBiometrics(tbl):\n",
    "    dayVal = tbl.Biometrics.groupby(tbl.index.date).sum().reset_index()\n",
    "    return dayVal\n",
    "def DailyAggBrawl(tbl):\n",
    "    dayVal = tbl.Brawl.groupby(tbl.index.date).sum().reset_index()\n",
    "    return dayVal\n",
    "def DailyAggCPS(tbl):\n",
    "    dayVal = tbl.CPS.groupby(tbl.index.date).sum().reset_index()\n",
    "    return dayVal\n",
    "def DailyAggConflict(tbl):\n",
    "    dayVal = tbl.Conflict.groupby(tbl.index.date).sum().reset_index()\n",
    "    return dayVal\n",
    "def DailyAggDeath(tbl):\n",
    "    dayVal = tbl.Death.groupby(tbl.index.date).sum().reset_index()\n",
    "    return dayVal\n",
    "def DailyAggEMS(tbl):\n",
    "    dayVal = tbl.EMS.groupby(tbl.index.date).sum().reset_index()\n",
    "    return dayVal\n",
    "def DailyAggEducation(tbl):\n",
    "    dayVal = tbl.Education.groupby(tbl.index.date).sum().reset_index()\n",
    "    return dayVal\n",
    "def DailyAggEmployment(tbl):\n",
    "    dayVal = tbl.Employment.groupby(tbl.index.date).sum().reset_index()\n",
    "    return dayVal\n",
    "def DailyAggFinancial(tbl):\n",
    "    dayVal = tbl.Financial.groupby(tbl.index.date).sum().reset_index()\n",
    "    return dayVal\n",
    "def DailyAggFriendsFamily(tbl):\n",
    "    dayVal = tbl.FriendsFamily.groupby(tbl.index.date).sum().reset_index()\n",
    "    return dayVal\n",
    "def DailyAggGun(tbl):\n",
    "    dayVal = tbl.Gun.groupby(tbl.index.date).sum().reset_index()\n",
    "    return dayVal\n",
    "def DailyAggHealth(tbl):\n",
    "    dayVal = tbl.Health.groupby(tbl.index.date).sum().reset_index()\n",
    "    return dayVal\n",
    "def DailyAggHousing(tbl):\n",
    "    dayVal = tbl.Housing.groupby(tbl.index.date).sum().reset_index()\n",
    "    return dayVal\n",
    "def DailyAggID(tbl):\n",
    "    dayVal = tbl.ID.groupby(tbl.index.date).sum().reset_index()\n",
    "    return dayVal\n",
    "def DailyAggIndigenous(tbl):\n",
    "    dayVal = tbl.Indigenous.groupby(tbl.index.date).sum().reset_index()\n",
    "    return dayVal\n",
    "def DailyAggJustice(tbl):\n",
    "    dayVal = tbl.Justice.groupby(tbl.index.date).sum().reset_index()\n",
    "    return dayVal\n",
    "def DailyAggKnife(tbl):\n",
    "    dayVal = tbl.Knife.groupby(tbl.index.date).sum().reset_index()\n",
    "    return dayVal\n",
    "def DailyAggMedication(tbl):\n",
    "    dayVal = tbl.Medication.groupby(tbl.index.date).sum().reset_index()\n",
    "    return dayVal\n",
    "def DailyAggMentalHealth(tbl):\n",
    "    dayVal = tbl.MentalHealth.groupby(tbl.index.date).sum().reset_index()\n",
    "    return dayVal\n",
    "def DailyAggNegativeWord(tbl):\n",
    "    dayVal = tbl.NegativeWord.groupby(tbl.index.date).sum().reset_index()\n",
    "    return dayVal\n",
    "def DailyAggOverdose(tbl):\n",
    "    dayVal = tbl.Overdose.groupby(tbl.index.date).sum().reset_index()\n",
    "    return dayVal\n",
    "def DailyAggPhysicalHealth(tbl):\n",
    "    dayVal = tbl.PhysicalHealth.groupby(tbl.index.date).sum().reset_index()\n",
    "    return dayVal\n",
    "def DailyAggPhysicalViolence(tbl):\n",
    "    dayVal = tbl.PhysicalViolence.groupby(tbl.index.date).sum().reset_index()\n",
    "    return dayVal\n",
    "def DailyAggPositiveWord(tbl):\n",
    "    dayVal = tbl.PositiveWord.groupby(tbl.index.date).sum().reset_index()\n",
    "    return dayVal\n",
    "def DailyAggProperty(tbl):\n",
    "    dayVal = tbl.Property.groupby(tbl.index.date).sum().reset_index()\n",
    "    return dayVal\n",
    "def DailyAggSeniors(tbl):\n",
    "    sen = tbl.Seniors.groupby(tbl.index.date).sum().reset_index()\n",
    "    return sen\n",
    "def DailyAggSexualViolence(tbl):\n",
    "    dayVal = tbl.SexualViolence.groupby(tbl.index.date).sum().reset_index()\n",
    "    return dayVal\n",
    "def DailyAggSpray(tbl):\n",
    "    dayVal = tbl.Spray.groupby(tbl.index.date).sum().reset_index()\n",
    "    return dayVal\n",
    "def DailyAggSupports(tbl):\n",
    "    dayVal = tbl.Supports.groupby(tbl.index.date).sum().reset_index()\n",
    "    return dayVal\n",
    "def DailyAggWeapon(tbl):\n",
    "    dayVal = tbl.Weapon.groupby(tbl.index.date).sum().reset_index()\n",
    "    return dayVal"
   ]
  },
  {
   "cell_type": "code",
   "execution_count": null,
   "metadata": {},
   "outputs": [],
   "source": [
    "validClientsFirst90DaysDf2 = validClientsFirst90DaysDf2.set_index('Date')"
   ]
  },
  {
   "cell_type": "code",
   "execution_count": null,
   "metadata": {
    "scrolled": true
   },
   "outputs": [],
   "source": [
    "tempFuncTbl1 = validClientsFirst90DaysDf2.groupby(\"ClientId\").progress_apply(DailyAggAddiction)\n",
    "tempFuncTbl2 = validClientsFirst90DaysDf2.groupby(\"ClientId\").progress_apply(DailyAggBar)"
   ]
  },
  {
   "cell_type": "code",
   "execution_count": null,
   "metadata": {},
   "outputs": [],
   "source": [
    "tempDf = pd.DataFrame(tempFuncTbl1)\n",
    "tempDf = tempDf.reset_index(level=[0,1])\n",
    "tempDf['level_1']=tempDf['level_1']+1\n",
    "tempDf = tempDf.rename(columns={'level_1':'Ind','index':'Date'})\n",
    "tempDf = tempDf.set_index(['ClientId','Ind'])"
   ]
  },
  {
   "cell_type": "code",
   "execution_count": null,
   "metadata": {},
   "outputs": [],
   "source": [
    "tempDf.head(5)"
   ]
  },
  {
   "cell_type": "code",
   "execution_count": null,
   "metadata": {},
   "outputs": [],
   "source": [
    "tempDf2 = pd.DataFrame(tempFuncTbl2)\n",
    "tempDf2 = tempDf2.reset_index(level=[0,1])\n",
    "tempDf2['level_1']=tempDf2['level_1']+1\n",
    "tempDf2 = tempDf2.rename(columns={'level_1':'Ind','index':'Date'})\n",
    "tempDf2 = tempDf2.set_index(['ClientId','Ind'])"
   ]
  },
  {
   "cell_type": "code",
   "execution_count": null,
   "metadata": {},
   "outputs": [],
   "source": [
    "tempDf2.head(5)"
   ]
  },
  {
   "cell_type": "code",
   "execution_count": null,
   "metadata": {},
   "outputs": [],
   "source": [
    "tempDf2 = tempDf2.drop(columns=['Date'])  # to have only one Date column and to avoid suffixing while join\n",
    "tempMergeNonCategorical=tempDf.join(tempDf2, how ='left')"
   ]
  },
  {
   "cell_type": "code",
   "execution_count": null,
   "metadata": {},
   "outputs": [],
   "source": [
    "tempFuncTbl2 = validClientsFirst90DaysDf2.groupby(\"ClientId\").progress_apply(DailyAggBiometrics)\n",
    "tempDf2 = pd.DataFrame(tempFuncTbl2)\n",
    "tempDf2 = tempDf2.reset_index(level=[0,1])\n",
    "tempDf2['level_1']=tempDf2['level_1']+1\n",
    "tempDf2 = tempDf2.rename(columns={'level_1':'Ind','index':'Date'})\n",
    "tempDf2 = tempDf2.set_index(['ClientId','Ind'])\n",
    "tempDf2 = tempDf2.drop(columns=['Date'])\n",
    "tempMergeNonCategorical=tempMergeNonCategorical.join(tempDf2, how ='left')"
   ]
  },
  {
   "cell_type": "code",
   "execution_count": null,
   "metadata": {},
   "outputs": [],
   "source": [
    "tempFuncTbl2 = validClientsFirst90DaysDf2.groupby(\"ClientId\").progress_apply(DailyAggBrawl)\n",
    "tempDf2 = pd.DataFrame(tempFuncTbl2)\n",
    "tempDf2 = tempDf2.reset_index(level=[0,1])\n",
    "tempDf2['level_1']=tempDf2['level_1']+1\n",
    "tempDf2 = tempDf2.rename(columns={'level_1':'Ind','index':'Date'})\n",
    "tempDf2 = tempDf2.set_index(['ClientId','Ind'])\n",
    "tempDf2 = tempDf2.drop(columns=['Date'])\n",
    "tempMergeNonCategorical = tempMergeNonCategorical.join(tempDf2, how ='left')"
   ]
  },
  {
   "cell_type": "code",
   "execution_count": null,
   "metadata": {},
   "outputs": [],
   "source": [
    "tempFuncTbl2 = validClientsFirst90DaysDf2.groupby(\"ClientId\").progress_apply(DailyAggCPS)\n",
    "tempDf2 = pd.DataFrame(tempFuncTbl2)\n",
    "tempDf2 = tempDf2.reset_index(level=[0,1])\n",
    "tempDf2['level_1']=tempDf2['level_1']+1\n",
    "tempDf2 = tempDf2.rename(columns={'level_1':'Ind','index':'Date'})\n",
    "tempDf2 = tempDf2.set_index(['ClientId','Ind'])\n",
    "tempDf2 = tempDf2.drop(columns=['Date'])\n",
    "tempMergeNonCategorical = tempMergeNonCategorical.join(tempDf2, how ='left')"
   ]
  },
  {
   "cell_type": "code",
   "execution_count": null,
   "metadata": {},
   "outputs": [],
   "source": [
    "tempFuncTbl2 = validClientsFirst90DaysDf2.groupby(\"ClientId\").progress_apply(DailyAggConflict)\n",
    "tempDf2 = pd.DataFrame(tempFuncTbl2)\n",
    "tempDf2 = tempDf2.reset_index(level=[0,1])\n",
    "tempDf2['level_1']=tempDf2['level_1']+1\n",
    "tempDf2 = tempDf2.rename(columns={'level_1':'Ind','index':'Date'})\n",
    "tempDf2 = tempDf2.set_index(['ClientId','Ind'])\n",
    "tempDf2 = tempDf2.drop(columns=['Date'])\n",
    "tempMergeNonCategorical = tempMergeNonCategorical.join(tempDf2, how ='left')"
   ]
  },
  {
   "cell_type": "code",
   "execution_count": null,
   "metadata": {},
   "outputs": [],
   "source": [
    "tempFuncTbl2 = validClientsFirst90DaysDf2.groupby(\"ClientId\").progress_apply(DailyAggDeath)\n",
    "tempDf2 = pd.DataFrame(tempFuncTbl2)\n",
    "tempDf2 = tempDf2.reset_index(level=[0,1])\n",
    "tempDf2['level_1']=tempDf2['level_1']+1\n",
    "tempDf2 = tempDf2.rename(columns={'level_1':'Ind','index':'Date'})\n",
    "tempDf2 = tempDf2.set_index(['ClientId','Ind'])\n",
    "tempDf2 = tempDf2.drop(columns=['Date'])\n",
    "tempMergeNonCategorical = tempMergeNonCategorical.join(tempDf2, how ='left')"
   ]
  },
  {
   "cell_type": "code",
   "execution_count": null,
   "metadata": {},
   "outputs": [],
   "source": [
    "tempFuncTbl2 = validClientsFirst90DaysDf2.groupby(\"ClientId\").progress_apply(DailyAggEMS)\n",
    "tempDf2 = pd.DataFrame(tempFuncTbl2)\n",
    "tempDf2 = tempDf2.reset_index(level=[0,1])\n",
    "tempDf2['level_1']=tempDf2['level_1']+1\n",
    "tempDf2 = tempDf2.rename(columns={'level_1':'Ind','index':'Date'})\n",
    "tempDf2 = tempDf2.set_index(['ClientId','Ind'])\n",
    "tempDf2 = tempDf2.drop(columns=['Date'])\n",
    "tempMergeNonCategorical = tempMergeNonCategorical.join(tempDf2, how ='left')"
   ]
  },
  {
   "cell_type": "code",
   "execution_count": null,
   "metadata": {},
   "outputs": [],
   "source": [
    "tempFuncTbl2 = validClientsFirst90DaysDf2.groupby(\"ClientId\").progress_apply(DailyAggEducation)\n",
    "tempDf2 = pd.DataFrame(tempFuncTbl2)\n",
    "tempDf2 = tempDf2.reset_index(level=[0,1])\n",
    "tempDf2['level_1']=tempDf2['level_1']+1\n",
    "tempDf2 = tempDf2.rename(columns={'level_1':'Ind','index':'Date'})\n",
    "tempDf2 = tempDf2.set_index(['ClientId','Ind'])\n",
    "tempDf2 = tempDf2.drop(columns=['Date'])\n",
    "tempMergeNonCategorical = tempMergeNonCategorical.join(tempDf2, how ='left')"
   ]
  },
  {
   "cell_type": "code",
   "execution_count": null,
   "metadata": {},
   "outputs": [],
   "source": [
    "tempFuncTbl2 = validClientsFirst90DaysDf2.groupby(\"ClientId\").progress_apply(DailyAggEmployment)\n",
    "tempDf2 = pd.DataFrame(tempFuncTbl2)\n",
    "tempDf2 = tempDf2.reset_index(level=[0,1])\n",
    "tempDf2['level_1']=tempDf2['level_1']+1\n",
    "tempDf2 = tempDf2.rename(columns={'level_1':'Ind','index':'Date'})\n",
    "tempDf2 = tempDf2.set_index(['ClientId','Ind'])\n",
    "tempDf2 = tempDf2.drop(columns=['Date'])\n",
    "tempMergeNonCategorical = tempMergeNonCategorical.join(tempDf2, how ='left')"
   ]
  },
  {
   "cell_type": "code",
   "execution_count": null,
   "metadata": {},
   "outputs": [],
   "source": [
    "tempFuncTbl2 = validClientsFirst90DaysDf2.groupby(\"ClientId\").progress_apply(DailyAggFinancial)\n",
    "tempDf2 = pd.DataFrame(tempFuncTbl2)\n",
    "tempDf2 = tempDf2.reset_index(level=[0,1])\n",
    "tempDf2['level_1']=tempDf2['level_1']+1\n",
    "tempDf2 = tempDf2.rename(columns={'level_1':'Ind','index':'Date'})\n",
    "tempDf2 = tempDf2.set_index(['ClientId','Ind'])\n",
    "tempDf2 = tempDf2.drop(columns=['Date'])\n",
    "tempMergeNonCategorical = tempMergeNonCategorical.join(tempDf2, how ='left')"
   ]
  },
  {
   "cell_type": "code",
   "execution_count": null,
   "metadata": {},
   "outputs": [],
   "source": [
    "tempFuncTbl2 = validClientsFirst90DaysDf2.groupby(\"ClientId\").progress_apply(DailyAggFriendsFamily)\n",
    "tempDf2 = pd.DataFrame(tempFuncTbl2)\n",
    "tempDf2 = tempDf2.reset_index(level=[0,1])\n",
    "tempDf2['level_1']=tempDf2['level_1']+1\n",
    "tempDf2 = tempDf2.rename(columns={'level_1':'Ind','index':'Date'})\n",
    "tempDf2 = tempDf2.set_index(['ClientId','Ind'])\n",
    "tempDf2 = tempDf2.drop(columns=['Date'])\n",
    "tempMergeNonCategorical = tempMergeNonCategorical.join(tempDf2, how ='left')"
   ]
  },
  {
   "cell_type": "code",
   "execution_count": null,
   "metadata": {},
   "outputs": [],
   "source": [
    "tempFuncTbl2 = validClientsFirst90DaysDf2.groupby(\"ClientId\").progress_apply(DailyAggGun)\n",
    "tempDf2 = pd.DataFrame(tempFuncTbl2)\n",
    "tempDf2 = tempDf2.reset_index(level=[0,1])\n",
    "tempDf2['level_1']=tempDf2['level_1']+1\n",
    "tempDf2 = tempDf2.rename(columns={'level_1':'Ind','index':'Date'})\n",
    "tempDf2 = tempDf2.set_index(['ClientId','Ind'])\n",
    "tempDf2 = tempDf2.drop(columns=['Date'])\n",
    "tempMergeNonCategorical = tempMergeNonCategorical.join(tempDf2, how ='left')"
   ]
  },
  {
   "cell_type": "code",
   "execution_count": null,
   "metadata": {},
   "outputs": [],
   "source": [
    "tempFuncTbl2 = validClientsFirst90DaysDf2.groupby(\"ClientId\").progress_apply(DailyAggHealth)\n",
    "tempDf2 = pd.DataFrame(tempFuncTbl2)\n",
    "tempDf2 = tempDf2.reset_index(level=[0,1])\n",
    "tempDf2['level_1']=tempDf2['level_1']+1\n",
    "tempDf2 = tempDf2.rename(columns={'level_1':'Ind','index':'Date'})\n",
    "tempDf2 = tempDf2.set_index(['ClientId','Ind'])\n",
    "tempDf2 = tempDf2.drop(columns=['Date'])\n",
    "tempMergeNonCategorical = tempMergeNonCategorical.join(tempDf2, how ='left')"
   ]
  },
  {
   "cell_type": "code",
   "execution_count": null,
   "metadata": {},
   "outputs": [],
   "source": [
    "tempFuncTbl2 = validClientsFirst90DaysDf2.groupby(\"ClientId\").progress_apply(DailyAggHousing)\n",
    "tempDf2 = pd.DataFrame(tempFuncTbl2)\n",
    "tempDf2 = tempDf2.reset_index(level=[0,1])\n",
    "tempDf2['level_1']=tempDf2['level_1']+1\n",
    "tempDf2 = tempDf2.rename(columns={'level_1':'Ind','index':'Date'})\n",
    "tempDf2 = tempDf2.set_index(['ClientId','Ind'])\n",
    "tempDf2 = tempDf2.drop(columns=['Date'])\n",
    "tempMergeNonCategorical = tempMergeNonCategorical.join(tempDf2, how ='left')"
   ]
  },
  {
   "cell_type": "code",
   "execution_count": null,
   "metadata": {},
   "outputs": [],
   "source": [
    "tempFuncTbl2 = validClientsFirst90DaysDf2.groupby(\"ClientId\").progress_apply(DailyAggID)\n",
    "tempDf2 = pd.DataFrame(tempFuncTbl2)\n",
    "tempDf2 = tempDf2.reset_index(level=[0,1])\n",
    "tempDf2['level_1']=tempDf2['level_1']+1\n",
    "tempDf2 = tempDf2.rename(columns={'level_1':'Ind','index':'Date'})\n",
    "tempDf2 = tempDf2.set_index(['ClientId','Ind'])\n",
    "tempDf2 = tempDf2.drop(columns=['Date'])\n",
    "tempMergeNonCategorical = tempMergeNonCategorical.join(tempDf2, how ='left')"
   ]
  },
  {
   "cell_type": "code",
   "execution_count": null,
   "metadata": {},
   "outputs": [],
   "source": [
    "tempFuncTbl2 = validClientsFirst90DaysDf2.groupby(\"ClientId\").progress_apply(DailyAggIndigenous)\n",
    "tempDf2 = pd.DataFrame(tempFuncTbl2)\n",
    "tempDf2 = tempDf2.reset_index(level=[0,1])\n",
    "tempDf2['level_1']=tempDf2['level_1']+1\n",
    "tempDf2 = tempDf2.rename(columns={'level_1':'Ind','index':'Date'})\n",
    "tempDf2 = tempDf2.set_index(['ClientId','Ind'])\n",
    "tempDf2 = tempDf2.drop(columns=['Date'])\n",
    "tempMergeNonCategorical = tempMergeNonCategorical.join(tempDf2, how ='left')"
   ]
  },
  {
   "cell_type": "code",
   "execution_count": null,
   "metadata": {},
   "outputs": [],
   "source": [
    "tempFuncTbl2 = validClientsFirst90DaysDf2.groupby(\"ClientId\").progress_apply(DailyAggJustice)\n",
    "tempDf2 = pd.DataFrame(tempFuncTbl2)\n",
    "tempDf2 = tempDf2.reset_index(level=[0,1])\n",
    "tempDf2['level_1']=tempDf2['level_1']+1\n",
    "tempDf2 = tempDf2.rename(columns={'level_1':'Ind','index':'Date'})\n",
    "tempDf2 = tempDf2.set_index(['ClientId','Ind'])\n",
    "tempDf2 = tempDf2.drop(columns=['Date'])\n",
    "tempMergeNonCategorical=tempMergeNonCategorical.join(tempDf2, how ='left')"
   ]
  },
  {
   "cell_type": "code",
   "execution_count": null,
   "metadata": {},
   "outputs": [],
   "source": [
    "tempFuncTbl2 = validClientsFirst90DaysDf2.groupby(\"ClientId\").progress_apply(DailyAggKnife)\n",
    "tempDf2 = pd.DataFrame(tempFuncTbl2)\n",
    "tempDf2 = tempDf2.reset_index(level=[0,1])\n",
    "tempDf2['level_1']=tempDf2['level_1']+1\n",
    "tempDf2 = tempDf2.rename(columns={'level_1':'Ind','index':'Date'})\n",
    "tempDf2 = tempDf2.set_index(['ClientId','Ind'])\n",
    "tempDf2 = tempDf2.drop(columns=['Date'])\n",
    "tempMergeNonCategorical=tempMergeNonCategorical.join(tempDf2, how ='left')"
   ]
  },
  {
   "cell_type": "code",
   "execution_count": null,
   "metadata": {},
   "outputs": [],
   "source": [
    "tempFuncTbl2 = validClientsFirst90DaysDf2.groupby(\"ClientId\").progress_apply(DailyAggMedication)\n",
    "tempDf2 = pd.DataFrame(tempFuncTbl2)\n",
    "tempDf2 = tempDf2.reset_index(level=[0,1])\n",
    "tempDf2['level_1']=tempDf2['level_1']+1\n",
    "tempDf2 = tempDf2.rename(columns={'level_1':'Ind','index':'Date'})\n",
    "tempDf2 = tempDf2.set_index(['ClientId','Ind'])\n",
    "tempDf2 = tempDf2.drop(columns=['Date'])\n",
    "tempMergeNonCategorical=tempMergeNonCategorical.join(tempDf2, how ='left')"
   ]
  },
  {
   "cell_type": "code",
   "execution_count": null,
   "metadata": {},
   "outputs": [],
   "source": [
    "tempFuncTbl2 = validClientsFirst90DaysDf2.groupby(\"ClientId\").progress_apply(DailyAggMentalHealth)\n",
    "tempDf2 = pd.DataFrame(tempFuncTbl2)\n",
    "tempDf2 = tempDf2.reset_index(level=[0,1])\n",
    "tempDf2['level_1']=tempDf2['level_1']+1\n",
    "tempDf2 = tempDf2.rename(columns={'level_1':'Ind','index':'Date'})\n",
    "tempDf2 = tempDf2.set_index(['ClientId','Ind'])\n",
    "tempDf2 = tempDf2.drop(columns=['Date'])\n",
    "tempMergeNonCategorical=tempMergeNonCategorical.join(tempDf2, how ='left')"
   ]
  },
  {
   "cell_type": "code",
   "execution_count": null,
   "metadata": {},
   "outputs": [],
   "source": [
    "tempFuncTbl2 = validClientsFirst90DaysDf2.groupby(\"ClientId\").progress_apply(DailyAggNegativeWord)\n",
    "tempDf2 = pd.DataFrame(tempFuncTbl2)\n",
    "tempDf2 = tempDf2.reset_index(level=[0,1])\n",
    "tempDf2['level_1']=tempDf2['level_1']+1\n",
    "tempDf2 = tempDf2.rename(columns={'level_1':'Ind','index':'Date'})\n",
    "tempDf2 = tempDf2.set_index(['ClientId','Ind'])\n",
    "tempDf2 = tempDf2.drop(columns=['Date'])\n",
    "tempMergeNonCategorical=tempMergeNonCategorical.join(tempDf2, how ='left')"
   ]
  },
  {
   "cell_type": "code",
   "execution_count": null,
   "metadata": {},
   "outputs": [],
   "source": [
    "tempFuncTbl2 = validClientsFirst90DaysDf2.groupby(\"ClientId\").progress_apply(DailyAggOverdose)\n",
    "tempDf2 = pd.DataFrame(tempFuncTbl2)\n",
    "tempDf2 = tempDf2.reset_index(level=[0,1])\n",
    "tempDf2['level_1']=tempDf2['level_1']+1\n",
    "tempDf2 = tempDf2.rename(columns={'level_1':'Ind','index':'Date'})\n",
    "tempDf2 = tempDf2.set_index(['ClientId','Ind'])\n",
    "tempDf2 = tempDf2.drop(columns=['Date'])\n",
    "tempMergeNonCategorical=tempMergeNonCategorical.join(tempDf2, how ='left')"
   ]
  },
  {
   "cell_type": "code",
   "execution_count": null,
   "metadata": {},
   "outputs": [],
   "source": [
    "tempFuncTbl2 = validClientsFirst90DaysDf2.groupby(\"ClientId\").progress_apply(DailyAggPhysicalHealth)\n",
    "tempDf2 = pd.DataFrame(tempFuncTbl2)\n",
    "tempDf2 = tempDf2.reset_index(level=[0,1])\n",
    "tempDf2['level_1']=tempDf2['level_1']+1\n",
    "tempDf2 = tempDf2.rename(columns={'level_1':'Ind','index':'Date'})\n",
    "tempDf2 = tempDf2.set_index(['ClientId','Ind'])\n",
    "tempDf2 = tempDf2.drop(columns=['Date'])\n",
    "tempMergeNonCategorical=tempMergeNonCategorical.join(tempDf2, how ='left')"
   ]
  },
  {
   "cell_type": "code",
   "execution_count": null,
   "metadata": {},
   "outputs": [],
   "source": [
    "tempFuncTbl2 = validClientsFirst90DaysDf2.groupby(\"ClientId\").progress_apply(DailyAggPhysicalViolence)\n",
    "tempDf2 = pd.DataFrame(tempFuncTbl2)\n",
    "tempDf2 = tempDf2.reset_index(level=[0,1])\n",
    "tempDf2['level_1']=tempDf2['level_1']+1\n",
    "tempDf2 = tempDf2.rename(columns={'level_1':'Ind','index':'Date'})\n",
    "tempDf2 = tempDf2.set_index(['ClientId','Ind'])\n",
    "tempDf2 = tempDf2.drop(columns=['Date'])\n",
    "tempMergeNonCategorical=tempMergeNonCategorical.join(tempDf2, how ='left')"
   ]
  },
  {
   "cell_type": "code",
   "execution_count": null,
   "metadata": {},
   "outputs": [],
   "source": [
    "tempFuncTbl2 = validClientsFirst90DaysDf2.groupby(\"ClientId\").progress_apply(DailyAggPositiveWord)\n",
    "tempDf2 = pd.DataFrame(tempFuncTbl2)\n",
    "tempDf2 = tempDf2.reset_index(level=[0,1])\n",
    "tempDf2['level_1']=tempDf2['level_1']+1\n",
    "tempDf2 = tempDf2.rename(columns={'level_1':'Ind','index':'Date'})\n",
    "tempDf2 = tempDf2.set_index(['ClientId','Ind'])\n",
    "tempDf2 = tempDf2.drop(columns=['Date'])\n",
    "tempMergeNonCategorical=tempMergeNonCategorical.join(tempDf2, how ='left')"
   ]
  },
  {
   "cell_type": "code",
   "execution_count": null,
   "metadata": {},
   "outputs": [],
   "source": [
    "tempFuncTbl2 = validClientsFirst90DaysDf2.groupby(\"ClientId\").progress_apply(DailyAggProperty)\n",
    "tempDf2 = pd.DataFrame(tempFuncTbl2)\n",
    "tempDf2 = tempDf2.reset_index(level=[0,1])\n",
    "tempDf2['level_1']=tempDf2['level_1']+1\n",
    "tempDf2 = tempDf2.rename(columns={'level_1':'Ind','index':'Date'})\n",
    "tempDf2 = tempDf2.set_index(['ClientId','Ind'])\n",
    "tempDf2 = tempDf2.drop(columns=['Date'])\n",
    "tempMergeNonCategorical=tempMergeNonCategorical.join(tempDf2, how ='left')"
   ]
  },
  {
   "cell_type": "code",
   "execution_count": null,
   "metadata": {},
   "outputs": [],
   "source": [
    "tempFuncTbl2 = validClientsFirst90DaysDf2.groupby(\"ClientId\").progress_apply(DailyAggSeniors)\n",
    "tempDf2 = pd.DataFrame(tempFuncTbl2)\n",
    "tempDf2 = tempDf2.reset_index(level=[0,1])\n",
    "tempDf2['level_1']=tempDf2['level_1']+1\n",
    "tempDf2 = tempDf2.rename(columns={'level_1':'Ind','index':'Date'})\n",
    "tempDf2 = tempDf2.set_index(['ClientId','Ind'])\n",
    "tempDf2 = tempDf2.drop(columns=['Date'])\n",
    "tempMergeNonCategorical=tempMergeNonCategorical.join(tempDf2, how ='left')"
   ]
  },
  {
   "cell_type": "code",
   "execution_count": null,
   "metadata": {},
   "outputs": [],
   "source": [
    "tempFuncTbl2 = validClientsFirst90DaysDf2.groupby(\"ClientId\").progress_apply(DailyAggSexualViolence)\n",
    "tempDf2 = pd.DataFrame(tempFuncTbl2)\n",
    "tempDf2 = tempDf2.reset_index(level=[0,1])\n",
    "tempDf2['level_1']=tempDf2['level_1']+1\n",
    "tempDf2 = tempDf2.rename(columns={'level_1':'Ind','index':'Date'})\n",
    "tempDf2 = tempDf2.set_index(['ClientId','Ind'])\n",
    "tempDf2 = tempDf2.drop(columns=['Date'])\n",
    "tempMergeNonCategorical=tempMergeNonCategorical.join(tempDf2, how ='left')"
   ]
  },
  {
   "cell_type": "code",
   "execution_count": null,
   "metadata": {},
   "outputs": [],
   "source": [
    "tempFuncTbl2 = validClientsFirst90DaysDf2.groupby(\"ClientId\").progress_apply(DailyAggSpray)\n",
    "tempDf2 = pd.DataFrame(tempFuncTbl2)\n",
    "tempDf2 = tempDf2.reset_index(level=[0,1])\n",
    "tempDf2['level_1']=tempDf2['level_1']+1\n",
    "tempDf2 = tempDf2.rename(columns={'level_1':'Ind','index':'Date'})\n",
    "tempDf2 = tempDf2.set_index(['ClientId','Ind'])\n",
    "tempDf2 = tempDf2.drop(columns=['Date'])\n",
    "tempMergeNonCategorical=tempMergeNonCategorical.join(tempDf2, how ='left')"
   ]
  },
  {
   "cell_type": "code",
   "execution_count": null,
   "metadata": {},
   "outputs": [],
   "source": [
    "tempFuncTbl2 = validClientsFirst90DaysDf2.groupby(\"ClientId\").progress_apply(DailyAggSupports)\n",
    "tempDf2 = pd.DataFrame(tempFuncTbl2)\n",
    "tempDf2 = tempDf2.reset_index(level=[0,1])\n",
    "tempDf2['level_1']=tempDf2['level_1']+1\n",
    "tempDf2 = tempDf2.rename(columns={'level_1':'Ind','index':'Date'})\n",
    "tempDf2 = tempDf2.set_index(['ClientId','Ind'])\n",
    "tempDf2 = tempDf2.drop(columns=['Date'])\n",
    "tempMergeNonCategorical=tempMergeNonCategorical.join(tempDf2, how ='left')"
   ]
  },
  {
   "cell_type": "code",
   "execution_count": null,
   "metadata": {},
   "outputs": [],
   "source": [
    "tempFuncTbl2 = validClientsFirst90DaysDf2.groupby(\"ClientId\").progress_apply(DailyAggWeapon)\n",
    "tempDf2 = pd.DataFrame(tempFuncTbl2)\n",
    "tempDf2 = tempDf2.reset_index(level=[0,1])\n",
    "tempDf2['level_1']=tempDf2['level_1']+1\n",
    "tempDf2 = tempDf2.rename(columns={'level_1':'Ind','index':'Date'})\n",
    "tempDf2 = tempDf2.set_index(['ClientId','Ind'])\n",
    "tempDf2 = tempDf2.drop(columns=['Date'])\n",
    "tempMergeNonCategorical=tempMergeNonCategorical.join(tempDf2, how ='left')"
   ]
  },
  {
   "attachments": {},
   "cell_type": "markdown",
   "metadata": {},
   "source": [
    "### Non-categorical features\n",
    "- Word counts are Non-Categorial features\n",
    "- There are other non-categorical features (non-word counts) also which are pre-processed along with the Categorical features in the preProcessing_mergeAll_90_Days_From_First_Sleep_Date"
   ]
  },
  {
   "cell_type": "code",
   "execution_count": null,
   "metadata": {},
   "outputs": [],
   "source": [
    "tempMergeNonCategorical"
   ]
  },
  {
   "cell_type": "markdown",
   "metadata": {},
   "source": [
    "<h3> Saving the pre-processed word counts to disc </h3>"
   ]
  },
  {
   "cell_type": "code",
   "execution_count": null,
   "metadata": {},
   "outputs": [],
   "source": [
    "tempMergeNonCategorical.to_hdf('mergedCounts_90DaysDf2.h5',key='df',mode='w')"
   ]
  }
 ],
 "metadata": {
  "interpreter": {
   "hash": "9f3ba9e726005c067fbc0eaab20e31f21cd7f7e132fec231b7dd4c5a2981fed5"
  },
  "kernelspec": {
   "display_name": "Python 3.9.7",
   "language": "python",
   "name": "python3"
  },
  "language_info": {
   "codemirror_mode": {
    "name": "ipython",
    "version": 3
   },
   "file_extension": ".py",
   "mimetype": "text/x-python",
   "name": "python",
   "nbconvert_exporter": "python",
   "pygments_lexer": "ipython3",
   "version": "3.9.15"
  }
 },
 "nbformat": 4,
 "nbformat_minor": 4
}
